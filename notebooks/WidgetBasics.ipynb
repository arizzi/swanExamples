{
 "cells": [
  {
   "cell_type": "markdown",
   "metadata": {},
   "source": [
    "# Simple Widget Introduction\n",
    "Based on:\n",
    "https://github.com/ipython/ipywidgets/blob/master/docs/source/examples/Widget%20Events.ipynb"
   ]
  },
  {
   "cell_type": "markdown",
   "metadata": {},
   "source": [
    "## What are widgets?"
   ]
  },
  {
   "cell_type": "markdown",
   "metadata": {
    "slideshow": {
     "slide_type": "slide"
    }
   },
   "source": [
    "Widgets are eventful python objects that have a representation in the browser, often as a control like a slider, textbox, etc."
   ]
  },
  {
   "cell_type": "markdown",
   "metadata": {},
   "source": [
    "## What can they be used for?"
   ]
  },
  {
   "cell_type": "markdown",
   "metadata": {
    "slideshow": {
     "slide_type": "slide"
    }
   },
   "source": [
    "You can use widgets to build **interactive GUIs** for your notebooks.  \n",
    "You can also use widgets to **synchronize stateful and stateless information** between Python and JavaScript."
   ]
  },
  {
   "cell_type": "markdown",
   "metadata": {},
   "source": [
    "## Activating widgets in SWAN\n",
    "Before using widgets, we need to enable the corresponding notebook extension. After running the following cell, please refresh your notebook page!"
   ]
  },
  {
   "cell_type": "code",
   "execution_count": 1,
   "metadata": {
    "collapsed": false
   },
   "outputs": [
    {
     "name": "stdout",
     "output_type": "stream",
     "text": [
      "Unrecognized JSON config file version, assuming version 1\r\n",
      "Enabling notebook extension jupyter-js-widgets/extension...\r\n",
      "      - Validating: \u001b[32mOK\u001b[0m\r\n"
     ]
    }
   ],
   "source": [
    "!jupyter nbextension enable --py widgetsnbextension"
   ]
  },
  {
   "cell_type": "markdown",
   "metadata": {},
   "source": [
    "## Using widgets  "
   ]
  },
  {
   "cell_type": "markdown",
   "metadata": {
    "slideshow": {
     "slide_type": "slide"
    }
   },
   "source": [
    "To use the widget framework, you need to import `ipywidgets`."
   ]
  },
  {
   "cell_type": "code",
   "execution_count": 2,
   "metadata": {
    "collapsed": false
   },
   "outputs": [],
   "source": [
    "from ipywidgets import *"
   ]
  },
  {
   "cell_type": "markdown",
   "metadata": {
    "slideshow": {
     "slide_type": "slide"
    }
   },
   "source": [
    "### repr"
   ]
  },
  {
   "cell_type": "markdown",
   "metadata": {},
   "source": [
    "Widgets have their own display `repr` which allows them to be displayed using IPython's display framework.  Constructing and returning an `IntSlider` automatically displays the widget (as seen below).  Widgets are displayed inside the widget area, which sits between the code cell and output.  You can hide all of the widgets in the widget area by clicking the grey *x* in the margin."
   ]
  },
  {
   "cell_type": "code",
   "execution_count": 3,
   "metadata": {
    "collapsed": true
   },
   "outputs": [
    {
     "data": {
      "image/png": "[encoded data removed]",
      "text/html": [
       "<img src=data:image/png;base64,iVBORw0KGgoAAAANSUhEUgAAA9oAAAAvCAYAAAAcoLJwAAAEx0lEQVR4nO3dTYhdZwEG4Let2FaLioKuuhCr4KaKKAr+EF0oFhWLUhFiBFG7UQf/oKhgxIJgi4W6qitpF+50URGkVbIqJDN35s7ce77v3Jk7P5C4CXQMklBXc1zMBLJwbhIYOdeb54F3863ezbd4OYdzEgAAAAAAAAAAAAAAAAAAAAAAAAAAAAAAAAAAAAAAAAAAAAAAAACAO04p5d211i+Nx+MzpZT/mqZpTo9Go1O11rf13RcAAADmVtu276y1PtU0zcWmaa4el1LKlVLKK6WUr2xtbd3bd28AAACYS23bnm6aZlpK6W6Wpmm6pmmeH41G7+q7NwAAAMylpmm+V2t9tdbatW07M0dj+2+llE/03RsAAADmUillqZSyfxtD+1yt9VTfvQEAAGAuGdoAAABwggxtAAAAOEGGNgAAAJwgQxvuKG9O8pEkjyb5YpIPJnmg10YAALBoDG24Y9yfw3H9TJInk/wqyW+SfDbJ63vsBQAAi8XQhjvG+5P8PsnPc/hk++1Jfp3kd0ne018tAABYMIY23BHuTvLNJH9J8uWjs7uOzv6a5LGeegEAwOK53aE9Ho8nw+Hw6cFg8C2RRc14PP76zs7Ow2fPnr277zt6Qu5NcjbJn5N89Ibzzyf5e5Lv99AJAAAWU631B6WUf93q0G7bttve3u729vZEFja7u7vXptPps6PR6MG+7+gJeWOSp5L8Kcn7bjj/VJKXk/ykj1IAALCQaq1P1Fpfu9Whvbe31127dq2DRXVwcNDt7+93Ozs7r9RaP9P3HT0hDyR5Oskfkzx8w/knczi0f9pHKQAAWEi11ieapnltfX2929jYuGl2dna6q1ev9r2F4H/m4OCgu3LlSre9vX2hlPJI33f0hNyX5JdJXkzy4RvOH8nhq+M/7KMUAAAspKZpfjQcDq9euHChO3/+/MwMBoOu1tpdunSpu3z5ssjC5uLFi//e2tp6fnNz871939ETck+S7+TwY2hfODq7K8mZJC8l+VpPvQAAYPGUUpaGw+E/b3VoD4fDfwwGgxeXl5efE1nEDAaD58bj8TNbW1uf7rrunr7v6An6eJI/JPlxkjckeUuSXyR5IckHeuwFAACLpZSytLGxsb+ystItLy/PzOrqare+vn5ubW3tVN+9gdv2piTfTvJskm8keTzJb3P4VPv+HnsBAMBiuT60B4NBt7KyMjNra2uGNvx/e0cO/5n9sxx+AO3RJG/ttREAACyaUsrSaDTaX1tb61ZXV2dmOBx2Gxsb50aj0am+ewMAAMBcKqUsjcfj/fX19W44HM7M0ZfJDW0AAAA4zvWhfSu/9hqNRt1oNDK0AQAA4DillKWmafbH43F3KzG0AQAAYIZSylIpZb+U0t0sTdMY2gAAADDL9aFda+3atp2Zo7F9rtZ6qu/eAAAAMJdqrd+ttb46mUy6zc3Nmam1dk3TvDyZTD7Wd28AAACYS7XWr9Za27ZtZ47syWTS1VoPSikvTKfTh/ruDQAAAHNpOp0+1Lbtk6WUlbZt63EppZRa60tN0zzWdd3r+u4NAAAAc2s6nT64ubn5uclkcua4NE1zejKZfGh3d/e+vvsCAAAAAAAAAAAAAAAAAAAAAAAAAAAAAAAAAAAAAAAw1/4DG6Dxusx+Az8AAAAASUVORK5CYII= class=\"jupyter-widget\">\n",
       "<script type=\"application/vnd.jupyter-embedded-widgets\">[{},{\"layout\":\"IPY_MODEL_193a023bf408474f92ddbf958c8bc01e\"}]</script>"
      ]
     },
     "metadata": {
      "isWidgetSnapshot": true
     },
     "output_type": "display_data"
    },
    {
     "data": {
      "image/png": "[encoded data removed]",
      "text/html": [
       "<img src=data:image/png;base64,iVBORw0KGgoAAAANSUhEUgAAA9oAAAAvCAYAAAAcoLJwAAAEx0lEQVR4nO3dTYhdZwEG4Let2FaLioKuuhCr4KaKKAr+EF0oFhWLUhFiBFG7UQf/oKhgxIJgi4W6qitpF+50URGkVbIqJDN35s7ce77v3Jk7P5C4CXQMklBXc1zMBLJwbhIYOdeb54F3863ezbd4OYdzEgAAAAAAAAAAAAAAAAAAAAAAAAAAAAAAAAAAAAAAAAAAAAAAAACAO04p5d211i+Nx+MzpZT/mqZpTo9Go1O11rf13RcAAADmVtu276y1PtU0zcWmaa4el1LKlVLKK6WUr2xtbd3bd28AAACYS23bnm6aZlpK6W6Wpmm6pmmeH41G7+q7NwAAAMylpmm+V2t9tdbatW07M0dj+2+llE/03RsAAADmUillqZSyfxtD+1yt9VTfvQEAAGAuGdoAAABwggxtAAAAOEGGNgAAAJwgQxvuKG9O8pEkjyb5YpIPJnmg10YAALBoDG24Y9yfw3H9TJInk/wqyW+SfDbJ63vsBQAAi8XQhjvG+5P8PsnPc/hk++1Jfp3kd0ne018tAABYMIY23BHuTvLNJH9J8uWjs7uOzv6a5LGeegEAwOK53aE9Ho8nw+Hw6cFg8C2RRc14PP76zs7Ow2fPnr277zt6Qu5NcjbJn5N89Ibzzyf5e5Lv99AJAAAWU631B6WUf93q0G7bttve3u729vZEFja7u7vXptPps6PR6MG+7+gJeWOSp5L8Kcn7bjj/VJKXk/ykj1IAALCQaq1P1Fpfu9Whvbe31127dq2DRXVwcNDt7+93Ozs7r9RaP9P3HT0hDyR5Oskfkzx8w/knczi0f9pHKQAAWEi11ieapnltfX2929jYuGl2dna6q1ev9r2F4H/m4OCgu3LlSre9vX2hlPJI33f0hNyX5JdJXkzy4RvOH8nhq+M/7KMUAAAspKZpfjQcDq9euHChO3/+/MwMBoOu1tpdunSpu3z5ssjC5uLFi//e2tp6fnNz871939ETck+S7+TwY2hfODq7K8mZJC8l+VpPvQAAYPGUUpaGw+E/b3VoD4fDfwwGgxeXl5efE1nEDAaD58bj8TNbW1uf7rrunr7v6An6eJI/JPlxkjckeUuSXyR5IckHeuwFAACLpZSytLGxsb+ystItLy/PzOrqare+vn5ubW3tVN+9gdv2piTfTvJskm8keTzJb3P4VPv+HnsBAMBiuT60B4NBt7KyMjNra2uGNvx/e0cO/5n9sxx+AO3RJG/ttREAACyaUsrSaDTaX1tb61ZXV2dmOBx2Gxsb50aj0am+ewMAAMBcKqUsjcfj/fX19W44HM7M0ZfJDW0AAAA4zvWhfSu/9hqNRt1oNDK0AQAA4DillKWmafbH43F3KzG0AQAAYIZSylIpZb+U0t0sTdMY2gAAADDL9aFda+3atp2Zo7F9rtZ6qu/eAAAAMJdqrd+ttb46mUy6zc3Nmam1dk3TvDyZTD7Wd28AAACYS7XWr9Za27ZtZ47syWTS1VoPSikvTKfTh/ruDQAAAHNpOp0+1Lbtk6WUlbZt63EppZRa60tN0zzWdd3r+u4NAAAAc2s6nT64ubn5uclkcua4NE1zejKZfGh3d/e+vvsCAAAAAAAAAAAAAAAAAAAAAAAAAAAAAAAAAAAAAAAw1/4DG6Dxusx+Az8AAAAASUVORK5CYII= class=\"jupyter-widget\">\n",
       "<script type=\"application/vnd.jupyter-embedded-widgets\">[{},{\"layout\":\"IPY_MODEL_193a023bf408474f92ddbf958c8bc01e\"}]</script>"
      ]
     },
     "metadata": {
      "isWidgetSnapshot": true
     },
     "output_type": "display_data"
    }
   ],
   "source": [
    "IntSlider()"
   ]
  },
  {
   "cell_type": "markdown",
   "metadata": {
    "slideshow": {
     "slide_type": "slide"
    }
   },
   "source": [
    "### display()"
   ]
  },
  {
   "cell_type": "markdown",
   "metadata": {},
   "source": [
    "You can also explicitly display the widget using `display(...)`."
   ]
  },
  {
   "cell_type": "code",
   "execution_count": 4,
   "metadata": {
    "collapsed": false
   },
   "outputs": [],
   "source": [
    "from IPython.display import display\n",
    "w = IntSlider()\n",
    "display(w)"
   ]
  },
  {
   "cell_type": "markdown",
   "metadata": {
    "slideshow": {
     "slide_type": "slide"
    }
   },
   "source": [
    "### Multiple display() calls"
   ]
  },
  {
   "cell_type": "markdown",
   "metadata": {},
   "source": [
    "If you display the same widget twice, the displayed instances in the front-end will remain in sync with each other.  Try dragging the slider below and watch the slider above."
   ]
  },
  {
   "cell_type": "code",
   "execution_count": 5,
   "metadata": {
    "collapsed": false
   },
   "outputs": [],
   "source": [
    "display(w)"
   ]
  },
  {
   "cell_type": "markdown",
   "metadata": {},
   "source": [
    "## Why does displaying the same widget twice work?"
   ]
  },
  {
   "cell_type": "markdown",
   "metadata": {
    "slideshow": {
     "slide_type": "slide"
    }
   },
   "source": [
    "Widgets are represented in the back-end by a single object.  Each time a widget is displayed, a new representation of that same object is created in the front-end.  These representations are called views.\n",
    "\n",
    "![Kernel & front-end diagram](images/WidgetModelView.png)"
   ]
  },
  {
   "cell_type": "markdown",
   "metadata": {
    "slideshow": {
     "slide_type": "slide"
    }
   },
   "source": [
    "### Closing widgets"
   ]
  },
  {
   "cell_type": "markdown",
   "metadata": {},
   "source": [
    "You can close a widget by calling its `close()` method."
   ]
  },
  {
   "cell_type": "code",
   "execution_count": 6,
   "metadata": {
    "collapsed": false
   },
   "outputs": [],
   "source": [
    "display(w)"
   ]
  },
  {
   "cell_type": "code",
   "execution_count": 7,
   "metadata": {
    "collapsed": false
   },
   "outputs": [],
   "source": [
    "w.close()"
   ]
  },
  {
   "cell_type": "markdown",
   "metadata": {},
   "source": [
    "## Widget properties"
   ]
  },
  {
   "cell_type": "markdown",
   "metadata": {
    "slideshow": {
     "slide_type": "slide"
    }
   },
   "source": [
    "All of the IPython widgets share a similar naming scheme.  To read the value of a widget, you can query its `value` property."
   ]
  },
  {
   "cell_type": "code",
   "execution_count": 8,
   "metadata": {
    "collapsed": false
   },
   "outputs": [
    {
     "data": {
      "image/png": "[encoded data removed]",
      "text/html": [
       "<img src=data:image/png;base64,iVBORw0KGgoAAAANSUhEUgAAA9oAAAAvCAYAAAAcoLJwAAAFRUlEQVR4nO3dTYhdZx0G8KettlGrJKJbBVuVgqCIgigNaXHhJ1UqtRK/RYUaO4qiVhSsIkYEacGlglbculEK0liDKJjJx839eN9zZibf1AwSJ2ZXaCTHxZ1QPzI3mZB4J3d+P3g29/4X/7t4Fw/n3HMSAAAAAAAAAAAAAAAAAAAAAAAAAAAAAAAAAAAAAAAAAAAAAAAAAABgRg2HwzsWFhY+XGt9qJSya418fnFxcXvbti+d9r4AAACwYTVN87pa6w9LKaNa6zO11r+ukRO11j+UUh4opdw67b0BAABgQyql7Ky1LtZau6Zp1kyttau1Xiil/LKUcue09wYAAIANqWmaL9ZaV5qm6dq2nZhaa1dK2VNKuXvaewMAAMCGVGudq7WeXUfR3ts0zY5p7w0AAAAbkqINAAAA15CiDQAAANeQog0AAADX0CYp2jcnuSvJriQfTPKSS8y8Isn7k8wleTjJu5JsvYoZAAAANrNNULS3JLk3ye4kh5L8JMkr/2vm9iSfTPJYkocyLtKPJ3kwyYvWMQMAAMBmtwmK9rYk70nypSRP5tJF++1JfpXk6xkX6m1JvpfkF0neuI4ZAAAANrtNULS3ZFyKX5/kZ/nfon1zxleon0zygdXPbsr46vVTST6W5AWXmdl5HfcHAIDZsbS09Oamab46HA6/PxgMfiAyiymlPFVrfXaGi/ZFr8qli/aWJN9N8pskb/u3z9+b5Ok8fwV70sxXrtvWAAAwK2qtr15aWvrxyZMn/768vPzc8vLyeZFZzIkTJ/7Ztu2FdRTtXtu29037jF6FtYr27Ul+lOTX+c9bwO9JsifJo0lefpmZb163rQEAYFbUWt959OjRP62srHTnz58XmdmcOXOma9u2W0fRPtW27aenfUavgqINAADTVEp597Fjx/5y7ty5DmbZyspKt7CwcMVFu2maZ5qm+ey0z+hVWKto35Zxmf5txg88u+h9Gd8W/rWMXwc2aebL121rAACYFbXW1x45cuTnp06deu706dOdyKzm+PHj3Wg06nq93mXT7/e74XA4GI1G90/7jF6FtYr2zUk+l/GDzi7+rpuSfCbJ75J8JMktl5l58DrvDgAAN74DBw68sG3bd5RSHll9aNRukVnMaDTa0+/3n52fn+/27ds3MQcPHuz6/f4f+/3+vdM+o1dhraKdJG9J8kSSbyV52er3u5P8NMld65gBAAAuZ2lp6bZer7d1MBhsE5nFNE3zjX6//4/9+/d38/PzE7NatPf2er0d0z6b63BLxrd7P5pkPsmfkzyS5K0ZX81OkhcneSDJ40m+neQ7SR5Lcl/Gt5Zf6QwAAACbXa11bjAYnD1w4EC3f//+iTl06NCNWrTflPE7r3cl+UKSjyZ5Q54v2sn4Xdv3JPl4xu/OvjvjK9dZ5wwAAACb2cWiffDgwe5yWf2f9o1WtAEAAOD/p9Y6NxwOz17Jw9AOHz7cDQaDvcPhcMe09wYAAIANqdY6NxqNzvb7/e5KomgDAADABBeL9mAw6IbD4ZVE0QYAAIC11FrnSilnR6NRV0qZmNFopGgDAADAJLXWuVrr2Vpr1zTNxKwWbkUbAAAA1lJKebhpmpW2bbuFhYWJWS3bvx8MBtunvTcAAABsSKWUnU3TLDZN07VtOzFN01wopTwxHA7vmPbeAAAAsCEtLi6+pm3b3W3bLrRt+7cJOd227dNN09xfSrl12nsDAADAhnXkyJE7l5aWPtS27afWStM0n1hcXNze6/W2TntfAAAAAAAAAAAAAAAAAAAAAAAAAAAAAAAAAAAAAAC4Qf0LgLkWqYfTJqoAAAAASUVORK5CYII= class=\"jupyter-widget\">\n",
       "<script type=\"application/vnd.jupyter-embedded-widgets\">[{},{\"layout\":\"IPY_MODEL_50548f6fb43b4f6c9c1168c095a46ab3\",\"value\":100}]</script>"
      ]
     },
     "metadata": {
      "isWidgetSnapshot": true
     },
     "output_type": "display_data"
    },
    {
     "data": {
      "image/png": "[encoded data removed]",
      "text/html": [
       "<img src=data:image/png;base64,iVBORw0KGgoAAAANSUhEUgAAA9oAAAAvCAYAAAAcoLJwAAAFRUlEQVR4nO3dTYhdZx0G8KettlGrJKJbBVuVgqCIgigNaXHhJ1UqtRK/RYUaO4qiVhSsIkYEacGlglbculEK0liDKJjJx839eN9zZibf1AwSJ2ZXaCTHxZ1QPzI3mZB4J3d+P3g29/4X/7t4Fw/n3HMSAAAAAAAAAAAAAAAAAAAAAAAAAAAAAAAAAAAAAAAAAAAAAAAAAABgRg2HwzsWFhY+XGt9qJSya418fnFxcXvbti+d9r4AAACwYTVN87pa6w9LKaNa6zO11r+ukRO11j+UUh4opdw67b0BAABgQyql7Ky1LtZau6Zp1kyttau1Xiil/LKUcue09wYAAIANqWmaL9ZaV5qm6dq2nZhaa1dK2VNKuXvaewMAAMCGVGudq7WeXUfR3ts0zY5p7w0AAAAbkqINAAAA15CiDQAAANeQog0AAADX0CYp2jcnuSvJriQfTPKSS8y8Isn7k8wleTjJu5JsvYoZAAAANrNNULS3JLk3ye4kh5L8JMkr/2vm9iSfTPJYkocyLtKPJ3kwyYvWMQMAAMBmtwmK9rYk70nypSRP5tJF++1JfpXk6xkX6m1JvpfkF0neuI4ZAAAANrtNULS3ZFyKX5/kZ/nfon1zxleon0zygdXPbsr46vVTST6W5AWXmdl5HfcHAIDZsbS09Oamab46HA6/PxgMfiAyiymlPFVrfXaGi/ZFr8qli/aWJN9N8pskb/u3z9+b5Ok8fwV70sxXrtvWAAAwK2qtr15aWvrxyZMn/768vPzc8vLyeZFZzIkTJ/7Ztu2FdRTtXtu29037jF6FtYr27Ul+lOTX+c9bwO9JsifJo0lefpmZb163rQEAYFbUWt959OjRP62srHTnz58XmdmcOXOma9u2W0fRPtW27aenfUavgqINAADTVEp597Fjx/5y7ty5DmbZyspKt7CwcMVFu2maZ5qm+ey0z+hVWKto35Zxmf5txg88u+h9Gd8W/rWMXwc2aebL121rAACYFbXW1x45cuTnp06deu706dOdyKzm+PHj3Wg06nq93mXT7/e74XA4GI1G90/7jF6FtYr2zUk+l/GDzi7+rpuSfCbJ75J8JMktl5l58DrvDgAAN74DBw68sG3bd5RSHll9aNRukVnMaDTa0+/3n52fn+/27ds3MQcPHuz6/f4f+/3+vdM+o1dhraKdJG9J8kSSbyV52er3u5P8NMld65gBAAAuZ2lp6bZer7d1MBhsE5nFNE3zjX6//4/9+/d38/PzE7NatPf2er0d0z6b63BLxrd7P5pkPsmfkzyS5K0ZX81OkhcneSDJ40m+neQ7SR5Lcl/Gt5Zf6QwAAACbXa11bjAYnD1w4EC3f//+iTl06NCNWrTflPE7r3cl+UKSjyZ5Q54v2sn4Xdv3JPl4xu/OvjvjK9dZ5wwAAACb2cWiffDgwe5yWf2f9o1WtAEAAOD/p9Y6NxwOz17Jw9AOHz7cDQaDvcPhcMe09wYAAIANqdY6NxqNzvb7/e5KomgDAADABBeL9mAw6IbD4ZVE0QYAAIC11FrnSilnR6NRV0qZmNFopGgDAADAJLXWuVrr2Vpr1zTNxKwWbkUbAAAA1lJKebhpmpW2bbuFhYWJWS3bvx8MBtunvTcAAABsSKWUnU3TLDZN07VtOzFN01wopTwxHA7vmPbeAAAAsCEtLi6+pm3b3W3bLrRt+7cJOd227dNN09xfSrl12nsDAADAhnXkyJE7l5aWPtS27afWStM0n1hcXNze6/W2TntfAAAAAAAAAAAAAAAAAAAAAAAAAAAAAAAAAAAAAAC4Qf0LgLkWqYfTJqoAAAAASUVORK5CYII= class=\"jupyter-widget\">\n",
       "<script type=\"application/vnd.jupyter-embedded-widgets\">[{},{\"layout\":\"IPY_MODEL_50548f6fb43b4f6c9c1168c095a46ab3\",\"value\":100}]</script>"
      ]
     },
     "metadata": {
      "isWidgetSnapshot": true
     },
     "output_type": "display_data"
    }
   ],
   "source": [
    "w = IntSlider()\n",
    "display(w)"
   ]
  },
  {
   "cell_type": "code",
   "execution_count": 9,
   "metadata": {
    "collapsed": false
   },
   "outputs": [
    {
     "data": {
      "text/plain": [
       "0"
      ]
     },
     "execution_count": 9,
     "metadata": {},
     "output_type": "execute_result"
    }
   ],
   "source": [
    "w.value"
   ]
  },
  {
   "cell_type": "markdown",
   "metadata": {},
   "source": [
    "Similarly, to set a widget's value, you can set its `value` property."
   ]
  },
  {
   "cell_type": "code",
   "execution_count": 10,
   "metadata": {
    "collapsed": false
   },
   "outputs": [],
   "source": [
    "w.value = 100"
   ]
  },
  {
   "cell_type": "markdown",
   "metadata": {
    "slideshow": {
     "slide_type": "slide"
    }
   },
   "source": [
    "### Keys"
   ]
  },
  {
   "cell_type": "markdown",
   "metadata": {},
   "source": [
    "In addition to `value`, most widgets share `keys`, `description`, `disabled`, and `visible`.  To see the entire list of synchronized, stateful properties of any specific widget, you can query the `keys` property."
   ]
  },
  {
   "cell_type": "code",
   "execution_count": 11,
   "metadata": {
    "collapsed": false
   },
   "outputs": [
    {
     "data": {
      "text/plain": [
       "['_view_name',\n",
       " 'orientation',\n",
       " 'color',\n",
       " '_view_module',\n",
       " 'disabled',\n",
       " 'visible',\n",
       " 'readout_format',\n",
       " '_model_module',\n",
       " 'font_style',\n",
       " 'layout',\n",
       " 'min',\n",
       " '_range',\n",
       " 'background_color',\n",
       " 'slider_color',\n",
       " 'continuous_update',\n",
       " 'font_family',\n",
       " '_dom_classes',\n",
       " 'description',\n",
       " '_model_name',\n",
       " 'max',\n",
       " 'readout',\n",
       " 'font_weight',\n",
       " 'step',\n",
       " 'font_size',\n",
       " 'msg_throttle',\n",
       " 'value']"
      ]
     },
     "execution_count": 11,
     "metadata": {},
     "output_type": "execute_result"
    }
   ],
   "source": [
    "w.keys"
   ]
  },
  {
   "cell_type": "markdown",
   "metadata": {},
   "source": [
    "### Shorthand for setting the initial values of widget properties"
   ]
  },
  {
   "cell_type": "markdown",
   "metadata": {
    "slideshow": {
     "slide_type": "slide"
    }
   },
   "source": [
    "While creating a widget, you can set some or all of the initial values of that widget by defining them as keyword arguments in the widget's constructor (as seen below)."
   ]
  },
  {
   "cell_type": "code",
   "execution_count": 12,
   "metadata": {
    "collapsed": false
   },
   "outputs": [
    {
     "data": {
      "image/png": "[encoded data removed]",
      "text/html": [
       "<img src=data:image/png;base64,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 class=\"jupyter-widget\">\n",
       "<script type=\"application/vnd.jupyter-embedded-widgets\">[{},{\"layout\":\"IPY_MODEL_63c89322f4214f80a059cb4ded29bd92\",\"disabled\":true,\"value\":\"Hello World!\"}]</script>"
      ]
     },
     "metadata": {
      "isWidgetSnapshot": true
     },
     "output_type": "display_data"
    },
    {
     "data": {
      "image/png": "[encoded data removed]",
      "text/html": [
       "<img src=data:image/png;base64,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 class=\"jupyter-widget\">\n",
       "<script type=\"application/vnd.jupyter-embedded-widgets\">[{},{\"layout\":\"IPY_MODEL_63c89322f4214f80a059cb4ded29bd92\",\"disabled\":true,\"value\":\"Hello World!\"}]</script>"
      ]
     },
     "metadata": {
      "isWidgetSnapshot": true
     },
     "output_type": "display_data"
    }
   ],
   "source": [
    "Text(value='Hello World!', disabled=True)"
   ]
  },
  {
   "cell_type": "markdown",
   "metadata": {},
   "source": [
    "## Linking two similar widgets"
   ]
  },
  {
   "cell_type": "markdown",
   "metadata": {
    "slideshow": {
     "slide_type": "slide"
    }
   },
   "source": [
    "If you need to display the same value two different ways, you'll have to use two different widgets.  Instead of attempting to manually synchronize the values of the two widgets, you can use the `traitlet` `link` function to link two properties together.  Below, the values of two widgets are linked together."
   ]
  },
  {
   "cell_type": "code",
   "execution_count": 13,
   "metadata": {
    "collapsed": false
   },
   "outputs": [
    {
     "data": {
      "image/png": "[encoded data removed]",
      "text/html": [
       "<img src=data:image/png;base64,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 class=\"jupyter-widget\">\n",
       "<script type=\"application/vnd.jupyter-embedded-widgets\">[{},{\"layout\":\"IPY_MODEL_fc9d0b15528e47e8aecc9997e341242f\"},{},{\"layout\":\"IPY_MODEL_93233ef2372946b288079185cf77201a\",\"step\":0.1}]</script>"
      ]
     },
     "metadata": {
      "isWidgetSnapshot": true
     },
     "output_type": "display_data"
    },
    {
     "data": {
      "image/png": "[encoded data removed]",
      "text/html": [
       "<img src=data:image/png;base64,iVBORw0KGgoAAAANSUhEUgAAA9oAAABTCAYAAABgQH/KAAAJK0lEQVR4nO3db4hdZ14H8F8S6hrrgosr6C74YmULVll9pQj+iX9o6664av1PwT8F6RuNSl8URRRFELStGdq0XU1KKiVhpK1YaaWsNlGYNW3+zJ255zn3zp07kzYMNE2TaYakMc3M/HwxqYZqZ6aTifeeyecD3zcnz3N57ovz8HxzhnMjAAAAAAAAAAAAAAAAAAAAAAAAAAAAAIAtZHR0dMfY2NjOVqt1u4jIMGVsbGzn6OjojkHvkwAAsC6Zub3f79/RbrfvbbVa94+Pjz8gIjJMabVa97fb7Xv7/f4dmbl90PsmAACsqtPpfGZqamqk3+9fPnXqVIqIDGP6/f7l6enpkW63+9lB75sAALCquq7vmp6eHpufn0+AYTU/P58zMzNfq6rqnkHvmwAAsKqqqr48Ozt7YmFhYdDnaICPtLCwkLOzs+OllJ8d9L4JAACrUrSBJlC0AQBoDEUbaAJFGwCAxlC0gSZQtAEAaAxFG2gCRRsAgMZQtIEmULQBAGgMRRtoAkUbAIDGULSBJlC0AQBoDEUbaAJFGwCAxlC0gSZQtAEAaIwbKdrLy8t54cKF7Pf7Wdd1Tk1N5dmzZ3NpaekmHLOBW5miDQBAY9xI0b548WIeOXIk9+/fnwcPHsz9+/fniy++mGfOnMnl5eWbcNQGblWKNgAAjbHRor28vJytVisff/zxfPXVV3NxcTFLKbl379585ZVX8urVqzfpuA3cihRtAAAaY6NF++rVq/nCCy/knj17st/vZ2bmhQsXcv/+/blv37589913b8ZZG7hFKdoAADTGRov2e++9lwcOHMjHHnssz5w5k5mZV65cyWeffTb37NmTc3NzN+OsDdyiFG0AABpjo0V7YWEh9+3bl0888US+8847mZn5/vvv56FDh/Lhhx/O2dnZm3DUBm5VijYAAI2x0aJ98eLFfPrpp3Pv3r359ttvZ+bKE+2DBw/mo48+mm+++ebNOGsDtyhFGwCAxtho0b5y5UoeOnQoR0ZG8vTp05mZeenSpTxw4EA++eSTefbs2Ztx1gZuUYo2AACNsdGivbS0lEeOHMmRkZE8fvx4Li0t5enTp/Opp57K5557Li9fvnyTjtvArUjRBgCgMW7kd7TfeuutHB0dzdHR0Wy32/nyyy/nM888k1VV+R1tYFMp2gAANMaNFO3l5eV844038qWXXspDhw7l888/n1VV+Q1tYNMp2gAANMaNFG2A/y+KNgAAjaFoA02gaAMA0BiKNtAEijYAAI2haANNoGgDANAYijbQBIo2AACN0el0flrRBobdB0W72+3+zKD3TQAAWFWn07lnZmbmP+bn53NxcVFEZCgzPz+fs7OzR7vd7hcHvW8CAMCqqqq6s9frHZibm7t07ty5RRGRYczc3Nyl6enpA71e785B75sAALCqzNzW6/XuLqX8zcTExKiIyDCmlPKVXq93V2ZuG/S+CQAAAAAAAAAAAAAAAAAAAAAAAAAAAAAAAMCWlpnbpqamPlfX9d2Tk5M/Vdf1/5lSypfquv6Bbrf76UGvGQAAAIZWv9//9lLKX5dS3qmq6j8/KqWU90opJ6qquq/X631i0OsGAACAodRut3+tlDJTSsm1UlVVVlX1d71e7zsGvW4AAAAYSlVV/U4p5Xxd19npdFbNtbL9r6WUHx70ugEAAGAolVJ2f8yifbiu612DXjcAAAAMJUUbAAAANpGiDQAAAJtI0QYAAIBNpGjDlnB7RHx3RPzItXxnROzchDkb+VwAALi1KdrQeJ+IiLsj4tGIeCwi9kbEX0XEroi47QbmbORzAQAARRsa77si4m8j4s8i4lMR8W0R8UisFOPP3cCcjXwuAACwgaL9b1VV3dNqtW4X2YoZGxvbOTo6umPQ9+Y6bYuI34iIlyLil65d2x4RvxUR/xwRP7/BOdvXGHPvJn8PAADYOjZQtLvtdvuR8fHxB0S2Ylqt1v3tdvvefr9/R2ZuH/Q9uoavi4g/joh/iogfvO76lyPi1Yh4MCI+/J8G65nzDWuM+d1N+wYAALDV1HX9+6WUhfUW7U6nk/1+P0+dOiWyZdPv9y9PT0+PdLvdzw76Hl3D7RHxlxHxQkR873XXfywivhoRfxIrxfrjzvnUGmP+YJPWDwAAW09VVQ+VUi6vt2ifOnUqL126lLCVzc/P58zMzNfqur570PfoGr4xVl5Q9lxEfOG667tipRD/afzvor2eOd+8xpg/3JzlAwDAFlTX9UNVVV2emJjIycnJNTMzM5MLCwu5uLgosmUzPz+fs7OzR7vd7hcHfY+u4esj4s8j4h8j4vuuu/6TEfEvsfLk+cNvCF/PnE+uMebBTfsGAACw1VRV9eD4+PjF1157LY8ePbpqjh8/np1OZ3lubm7p3LlziyJbNXNzc5emp6cP9Hq9Owd9j65hR0TsjpWXln3puuv3xcqT59+MlZeYfdw5t60x5tc36wsAAMCWU0rZ3Wq1zq+3aI+Pj7/darUOT0xMjIps1ZRSvtLr9e7KzG2DvkfX4ccj4u8j4vdi5Wn1JyPijyLiYER8/7Uxn46VJ9Ofj5WivZ456xkDAAB8WCll98TExPljx47l66+/vmpOnDiRrVbr8MmTJ3cNet3Af/umWHn6PBIRPxcRvxwRj0fEA7Hy4rOIiB+NiH+IiIciYuc656xnDAAA8GEfFO3jx4/nsWPHVo2iDUPrMxFxf0Q8EhEPx8qfeH/Ldf/+hVh5Gv0L8T8vR1trznrHAAAA1yul7J6cnDx/8uTJPHHixKoZHx/PiYmJw5OTk7sGvW4AAAAYSqWU3e12+/z4+HiulVarpWgDAADAaj4o2hMTE7meTE5OKtoAAADwUUopu6uqOt9ut3M9UbQBAABgFaWU3aWU81VVZSll1VRVpWgDAADAaj4o2nVdZ6fTWTXXyvbhuq53DXrdAAAAMJTquv7tuq7PdbvdnJqaWjV1XWdVVV+tquqHBr1uAAAAGEp1Xf9qXddT6ynanU5nuaqqZ+u6vmPQ6wYAAIChVEr5fCnlL0opJ+pVlBX/XlXVfZm5Y9DrBgAAgKFVVdW3Tk1N/URd17/yUamq6hfb7fb3HDt27LZBrxcAAAAAAAAAAAAAAAAAAAAAAAAAAAAAAAAAAAAAAICh9l8y7G9NZmO89gAAAABJRU5ErkJggg== class=\"jupyter-widget\">\n",
       "<script type=\"application/vnd.jupyter-embedded-widgets\">[{},{\"layout\":\"IPY_MODEL_fc9d0b15528e47e8aecc9997e341242f\"},{},{\"layout\":\"IPY_MODEL_93233ef2372946b288079185cf77201a\",\"step\":0.1}]</script>"
      ]
     },
     "metadata": {
      "isWidgetSnapshot": true
     },
     "output_type": "display_data"
    }
   ],
   "source": [
    "from traitlets import link\n",
    "a = FloatText()\n",
    "b = FloatSlider()\n",
    "display(a,b)\n",
    "\n",
    "mylink = link((a, 'value'), (b, 'value'))"
   ]
  },
  {
   "cell_type": "markdown",
   "metadata": {},
   "source": [
    "### Unlinking widgets"
   ]
  },
  {
   "cell_type": "markdown",
   "metadata": {
    "slideshow": {
     "slide_type": "slide"
    }
   },
   "source": [
    "Unlinking the widgets is simple.  All you have to do is call `.unlink` on the link object.  Try changing one of the widgets above after unlinking to see that they can be independently changed."
   ]
  },
  {
   "cell_type": "code",
   "execution_count": 14,
   "metadata": {
    "collapsed": false
   },
   "outputs": [],
   "source": [
    "mylink.unlink()"
   ]
  }
 ],
 "metadata": {
  "kernelspec": {
   "display_name": "Python 2",
   "language": "python",
   "name": "python2"
  },
  "language_info": {
   "codemirror_mode": {
    "name": "ipython",
    "version": 2
   },
   "file_extension": ".py",
   "mimetype": "text/x-python",
   "name": "python",
   "nbconvert_exporter": "python",
   "pygments_lexer": "ipython2",
   "version": "2.7.10"
  },
  "widgets": {
   "state": {
    "7e186fdc835e46b48344093fac4ff5a3": {
     "views": [
      {
       "cell_index": 39
      }
     ]
    },
    "87dd27a289ed4a248699083629778fe6": {
     "views": [
      {
       "cell_index": 39
      }
     ]
    },
    "8b9b538656124534b1323feecc9964a3": {
     "views": [
      {
       "cell_index": 27
      }
     ]
    },
    "e7400648df0b41e085a0a1a45a8b9bfd": {
     "views": [
      {
       "cell_index": 12
      }
     ]
    },
    "f3fc92771ddc4a77ad68a5c858167f73": {
     "views": [
      {
       "cell_index": 36
      }
     ]
    }
   },
   "version": "1.2.0"
  }
 },
 "nbformat": 4,
 "nbformat_minor": 1
}
